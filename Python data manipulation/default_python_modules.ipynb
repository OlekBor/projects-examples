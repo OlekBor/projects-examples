{
 "cells": [
  {
   "cell_type": "markdown",
   "metadata": {},
   "source": [
    "### Oleksandr Borysiuk 04.02 - 06.02"
   ]
  },
  {
   "cell_type": "markdown",
   "metadata": {},
   "source": [
    "## Problem 1"
   ]
  },
  {
   "cell_type": "markdown",
   "metadata": {},
   "source": [
    "A year is a leap year if it is divisible by 4, except that years divisible by 100 are not leap years unless\n",
    "they are also divisible by 400.\n",
    "Write a function that takes a year as an input and determines how many leap years there have been\n",
    "between 1600 and that year."
   ]
  },
  {
   "cell_type": "code",
   "execution_count": null,
   "metadata": {},
   "outputs": [],
   "source": [
    "def problem1(year: int) -> None:\n",
    "    # checking if year outside of boundaries given above\n",
    "    # if year less than 1601 print error\n",
    "    if year >= 1601:\n",
    "        cnt = 0\n",
    "        # loop for checking if year is leap\n",
    "        for y in range(1601, year+1):\n",
    "            if y % 4 == 0:\n",
    "                if y % 400 == 0:\n",
    "                    cnt +=1\n",
    "                    continue\n",
    "                elif y % 100 == 0:\n",
    "                    continue\n",
    "                cnt += 1\n",
    "        print(f'The number of leap years from 1600 until {year} is {cnt}')\n",
    "    else:\n",
    "        print(f'Year parameter shouldn\\'t be less than 1601')"
   ]
  },
  {
   "cell_type": "code",
   "execution_count": 2,
   "metadata": {},
   "outputs": [
    {
     "name": "stdout",
     "output_type": "stream",
     "text": [
      "The number of leap years from 1600 until 2022 is 102\n"
     ]
    }
   ],
   "source": [
    "import time\n",
    "year = time.localtime().tm_year # get current year\n",
    "\n",
    "problem1(year)"
   ]
  },
  {
   "cell_type": "code",
   "execution_count": 3,
   "metadata": {},
   "outputs": [
    {
     "name": "stdout",
     "output_type": "stream",
     "text": [
      "Test value -- 1600:\n",
      "Year parameter shouldn't be less than 1601\n",
      "\n",
      "Test value -- 1601:\n",
      "The number of leap years from 1600 until 1601 is 0\n",
      "\n",
      "Test value -- 1604:\n",
      "The number of leap years from 1600 until 1604 is 1\n",
      "\n",
      "Test value -- 2020:\n",
      "The number of leap years from 1600 until 2020 is 102\n",
      "\n",
      "Test value -- 2022:\n",
      "The number of leap years from 1600 until 2022 is 102\n",
      "\n",
      "Test value -- 2222:\n",
      "The number of leap years from 1600 until 2222 is 150\n",
      "\n"
     ]
    }
   ],
   "source": [
    "# function testing\n",
    "test_years = [1600, 1601, 1604, 2020, 2022, 2222]\n",
    "for year in test_years:\n",
    "    print(f'Test value -- {year}:')\n",
    "    problem1(year)\n",
    "    print('')"
   ]
  },
  {
   "cell_type": "code",
   "execution_count": null,
   "metadata": {},
   "outputs": [],
   "source": []
  },
  {
   "cell_type": "markdown",
   "metadata": {},
   "source": [
    "## Problem 2"
   ]
  },
  {
   "cell_type": "markdown",
   "metadata": {},
   "source": [
    "Write a program that generates a list of 20 random numbers between 1 and 100. When generating\n",
    "random number use random seed as 18.\n",
    "*   (a) Print the list.\n",
    "*   (b) Print the sorted list (sort list in the descending order)\n",
    "*   (c) Print the average of the elements in the list.\n",
    "*   (d) Print how many even numbers are in the list.\n",
    "*   (e) Print the largest and smallest values in the list.\n",
    "*   (f) Print the second largest and second smallest entries in the list"
   ]
  },
  {
   "cell_type": "code",
   "execution_count": 4,
   "metadata": {},
   "outputs": [],
   "source": [
    "import random\n",
    "\n",
    "def problem2() -> None:\n",
    "## a) Print the list\n",
    "    random.seed(18)\n",
    "    random_list = [random.randint(1, 101) for i in range(20)]\n",
    "    print('The numbers in the list:\\n-->', random_list)\n",
    "\n",
    "## b) Print the sorted list (sort list in the descending order)\n",
    "    random_list.sort(reverse=True)\n",
    "    print('The sorted list:\\n-->', random_list)\n",
    "\n",
    "## c) Print the average of the elements in the list\n",
    "    sum = 0\n",
    "    for num in random_list:\n",
    "        sum += num\n",
    "    average = sum/len(random_list)\n",
    "    print('\\nThe average of the list:', average)\n",
    "\n",
    "## d) Print how many even numbers are in the list\n",
    "    even = 0\n",
    "    for num in random_list:\n",
    "        if num % 2 == 0:\n",
    "            even += 1\n",
    "    print('Number of even numbers:', even)\n",
    "\n",
    "## e) Print the largest and smallest values in the list\n",
    "    lmax, lmin = max(random_list), min(random_list)\n",
    "    print('Largest element of the list:', lmax)\n",
    "    print('Smallest element of the list:', lmin)\n",
    "\n",
    "## f) Print the second largest and second smallest entries in the list\n",
    "    index = random_list.index(lmax)\n",
    "    while random_list[index] == lmax:\n",
    "        lmax2nd = random_list[index+1]\n",
    "        index+=1\n",
    "    lmin2nd = random_list[random_list.index(lmin)-1]\n",
    "    print('The second smallest element of the list:', lmin2nd)\n",
    "    print('The second largest element of the list:', lmax2nd)\n",
    "    \n"
   ]
  },
  {
   "cell_type": "code",
   "execution_count": 5,
   "metadata": {},
   "outputs": [
    {
     "name": "stdout",
     "output_type": "stream",
     "text": [
      "The numbers in the list:\n",
      "--> [24, 16, 85, 58, 43, 31, 26, 63, 81, 64, 24, 62, 38, 59, 34, 26, 33, 89, 16, 42]\n",
      "The sorted list:\n",
      "--> [89, 85, 81, 64, 63, 62, 59, 58, 43, 42, 38, 34, 33, 31, 26, 26, 24, 24, 16, 16]\n",
      "\n",
      "The average of the list: 45.7\n",
      "Number of even numbers: 12\n",
      "Largest element of the list: 89\n",
      "Smallest element of the list: 16\n",
      "The second smallest element of the list: 24\n",
      "The second largest element of the list: 85\n"
     ]
    }
   ],
   "source": [
    "problem2()\n"
   ]
  },
  {
   "cell_type": "code",
   "execution_count": null,
   "metadata": {},
   "outputs": [],
   "source": []
  },
  {
   "cell_type": "markdown",
   "metadata": {},
   "source": [
    "## Problem 3"
   ]
  },
  {
   "cell_type": "markdown",
   "metadata": {},
   "source": [
    "The Fibonacci numbers are the sequence below, where the first two numbers are 1, and each number thereafter is the sum of the two preceding numbers.\n",
    "\n",
    "* 1,1,2,3,5,8,13,21,34,55,89...\n",
    "\n",
    "Write a program that asks the user how many Fibonacci numbers to print and then prints that many."
   ]
  },
  {
   "cell_type": "code",
   "execution_count": 6,
   "metadata": {},
   "outputs": [],
   "source": [
    "def fibonacci(n: int, a = 1, b = 1, i = 1) -> list:\n",
    "    if i != n:\n",
    "        return [a] + fibonacci(n, b, a+b, i=i+1)\n",
    "    return [a]\n",
    "\n",
    "def problem3(how_much: int) -> None:\n",
    "    # using recursion to get list of numbers\n",
    "    fib_series = fibonacci(how_much)\n",
    "    print(fib_series)"
   ]
  },
  {
   "cell_type": "code",
   "execution_count": 7,
   "metadata": {},
   "outputs": [
    {
     "name": "stdout",
     "output_type": "stream",
     "text": [
      "[1, 1, 2, 3, 5, 8, 13, 21, 34, 55, 89, 144, 233, 377, 610, 987, 1597, 2584, 4181, 6765]\n"
     ]
    }
   ],
   "source": [
    "problem3(20)"
   ]
  },
  {
   "cell_type": "code",
   "execution_count": 8,
   "metadata": {},
   "outputs": [
    {
     "name": "stdout",
     "output_type": "stream",
     "text": [
      "[2, 5, 7, 12, 19, 31, 50, 81, 131, 212, 343, 555, 898, 1453, 2351, 3804, 6155, 9959, 16114, 26073]\n"
     ]
    }
   ],
   "source": [
    "# we can define different starting point\n",
    "print(fibonacci(20, a=2, b=5))"
   ]
  },
  {
   "cell_type": "code",
   "execution_count": null,
   "metadata": {},
   "outputs": [],
   "source": []
  },
  {
   "cell_type": "markdown",
   "metadata": {},
   "source": [
    "## Problem 4"
   ]
  },
  {
   "cell_type": "markdown",
   "metadata": {},
   "source": [
    "You are given a csv (gdp_per_capita.csv) file for GDP per capita taken from World Bank. The file\n",
    "holds data from 1960 to 2017. Write a function that takes this file as an input and do the following\n",
    "tasks for Poland:\n",
    "\n",
    "*   a) Calculate the yearly percentage increase compared to previous year and the find the year\n",
    "that has highest increase in terms of percentage.\n",
    "*   b) Find the years that GDP per capita decreased compared to the previous year."
   ]
  },
  {
   "cell_type": "code",
   "execution_count": 1,
   "metadata": {},
   "outputs": [],
   "source": [
    "def problem4(file: str, country='poland') -> None:\n",
    "\n",
    "    header, data = None, None\n",
    "\n",
    "    with open(file, 'r') as f:\n",
    "        tmp = f.readlines()\n",
    "        header = tmp[0].strip().split(';')[1:]\n",
    "        \n",
    "        # searching for country data\n",
    "        for line in tmp:\n",
    "            if country.lower() in line.lower():\n",
    "                data = line.strip().split(';')[1:]\n",
    "\n",
    "        # if data is empty print error message\n",
    "        if not data:\n",
    "            print(f'Country \"{country}\" not found')\n",
    "            return None\n",
    "\n",
    "    # converting str to float\n",
    "    gdp = [ float(n) if n != '' else 0 for n in data[1:] ]\n",
    "    gdp_dif = []\n",
    "\n",
    "    # calculating gdp difference between years in %\n",
    "    for i, num in enumerate(gdp):\n",
    "        if gdp[i-1] != 0 and num != 0:\n",
    "            gdp_dif.append((num - gdp[i-1])/gdp[i-1])\n",
    "        else:    \n",
    "            gdp_dif.append(0)\n",
    "            continue\n",
    "    \n",
    "    # combining aggregated data into 1 list\n",
    "    aggregated_data = list(zip(header, gdp, gdp_dif))\n",
    "\n",
    "    # finding record with maximal % increase \n",
    "    max_growth_id = aggregated_data.index(max(aggregated_data, key= lambda x: x[2]))\n",
    "    year = aggregated_data[max_growth_id][0]\n",
    "    print(f'Year that has highest increase in terms of percentage: {year}')\n",
    "    for i in range(-1, 2):\n",
    "        print(f'-->\\t{aggregated_data[max_growth_id+i]}' if max_growth_id+i == max_growth_id else f'\\t{aggregated_data[max_growth_id+i]}' )\n",
    "    print()\n",
    "\n",
    "    # displaying years with negative growth of gdp\n",
    "    print('Years in which GDP per capita decreased compared to previous year')\n",
    "    for r in [rec for rec in aggregated_data if rec[2]<0]:\n",
    "        print(r)"
   ]
  },
  {
   "cell_type": "code",
   "execution_count": 2,
   "metadata": {},
   "outputs": [
    {
     "name": "stdout",
     "output_type": "stream",
     "text": [
      "Year that has highest increase in terms of percentage: 1990\n",
      "\t('1989', 1731.2095311238809, 0)\n",
      "-->\t('1990', 2235.5410886252153, 0.2913174566304104)\n",
      "\t('1991', 2459.020684682533, 0.09996666900662984)\n",
      "\n",
      "Years in which GDP per capita decreased compared to previous year\n",
      "('1996', 4116.926242828206, -0.005809561442154481)\n",
      "('1998', 4389.976415342085, -0.026701922549481873)\n",
      "('2008', 11527.593227982454, -0.17668557220194922)\n",
      "('2011', 13145.539262786528, -0.053835930308962575)\n",
      "('2014', 12566.483442971556, -0.12382295319946557)\n",
      "('2015', 12415.043292289884, -0.012051116079444858)\n"
     ]
    }
   ],
   "source": [
    "problem4('data/gdp_per_capita.csv')"
   ]
  },
  {
   "cell_type": "code",
   "execution_count": 4,
   "metadata": {},
   "outputs": [
    {
     "name": "stdout",
     "output_type": "stream",
     "text": [
      "Year that has highest increase in terms of percentage: 1985\n",
      "\t('1984', 9393.891690502365, 0.012498408853881196)\n",
      "-->\t('1985', 13410.897100370721, 0.42761887641622737)\n",
      "\t('1986', 16614.410103695183, 0.23887387841011073)\n",
      "\n",
      "Years in which GDP per capita decreased compared to previous year\n",
      "('1980', 10170.446275422364, -0.15893771814604238)\n",
      "('1981', 9876.228231705974, -0.0289287250282605)\n",
      "('1982', 9827.022409325291, -0.004982248407617436)\n",
      "('1983', 9277.932299306996, -0.05587553250079485)\n",
      "('1988', 17697.16351356935, -0.009308084173199541)\n",
      "('1992', 25488.519518931356, -0.032089039589309636)\n",
      "('1995', 30564.247805838666, -0.0367306330094187)\n",
      "('1996', 27045.719127331846, -0.11511909931036085)\n",
      "('1998', 26795.991131681356, -0.01992203174736378)\n",
      "('1999', 23718.74669947103, -0.11483973170046496)\n",
      "('2000', 23687.31689281981, -0.001325104022124452)\n",
      "('2008', 41732.70725315802, -0.08679563790326214)\n",
      "('2011', 44065.24890827672, -0.058642593851184685)\n",
      "('2014', 41323.92150216904, -0.1398476986271042)\n"
     ]
    }
   ],
   "source": [
    "# we can define any country and see statistics\n",
    "problem4('data/gdp_per_capita.csv', 'germany')"
   ]
  },
  {
   "cell_type": "markdown",
   "metadata": {},
   "source": [
    "## Problem 5"
   ]
  },
  {
   "cell_type": "markdown",
   "metadata": {},
   "source": [
    "The following two lists contain student names and scores.\n",
    "\n",
    "names = [\"David\", \"Michael\", \"John\", \"James\", \"Greg\", \"Mark\", \"William\", \"Richard\", \"Thomas\",\n",
    "\"Steven\", \"Mary\", \"Susan\", \"Maria\", \"Karen\", \"Lisa\", \"Linda\", \"Donna\", \"Patricia\", \"Debra\", \"Eric\"]\n",
    "\n",
    "scores = [99, 87, 78, 86, 68, 94, 76, 97, 56, 98, 76, 87, 79, 90, 73, 93, 82, 69, 97, 98]\n",
    "\n",
    "By using the two lists above, print the names of students ranked in top-3 highest scores."
   ]
  },
  {
   "cell_type": "code",
   "execution_count": 12,
   "metadata": {},
   "outputs": [],
   "source": [
    "from collections import defaultdict\n",
    "\n",
    "names = [\"David\", \"Michael\", \"John\", \"James\", \"Greg\", \"Mark\", \"William\", \"Richard\", \"Thomas\",\n",
    "\"Steven\", \"Mary\", \"Susan\", \"Maria\", \"Karen\", \"Lisa\", \"Linda\", \"Donna\", \"Patricia\", \"Debra\", \"Eric\"]\n",
    "\n",
    "scores = [99, 87, 78, 86, 68, 94, 76, 97, 56, 98, 76, 87, 79, 90, 73, 93, 82, 69, 97, 98]\n",
    "\n",
    "def problem5(names: list, scores: list) -> None:\n",
    "    # combining given data into single list\n",
    "    ranking = list(zip(scores, names))\n",
    "    # getting list sorted\n",
    "    ranking = sorted(ranking, reverse=True)\n",
    "    # groupping students by score using dictionary\n",
    "    tmp = defaultdict(list)\n",
    "    for score, student in ranking:\n",
    "        tmp[score].append(student)\n",
    "    ranking = tmp.items()\n",
    "    # display students with top-3 scores \n",
    "    for i, student in enumerate(ranking):\n",
    "        print(f'Rank {i+1} {student[1]} score: {student[0]}')\n",
    "        if i == 2:\n",
    "            break\n"
   ]
  },
  {
   "cell_type": "code",
   "execution_count": 13,
   "metadata": {},
   "outputs": [
    {
     "name": "stdout",
     "output_type": "stream",
     "text": [
      "Rank 1 ['David'] score: 99\n",
      "Rank 2 ['Steven', 'Eric'] score: 98\n",
      "Rank 3 ['Richard', 'Debra'] score: 97\n"
     ]
    }
   ],
   "source": [
    "problem5(names, scores)"
   ]
  },
  {
   "cell_type": "code",
   "execution_count": null,
   "metadata": {},
   "outputs": [],
   "source": []
  },
  {
   "cell_type": "markdown",
   "metadata": {},
   "source": [
    "## Problem 6"
   ]
  },
  {
   "cell_type": "markdown",
   "metadata": {},
   "source": [
    "In a magic square, every row, column, and the two diagonals add up to the same value. Create random\n",
    "4x4 matrices ( two dimensional lists) until you find a magic square. Print the magic square and how\n",
    "many times you created a random matrix. The number inside these random 4x4 matrices should range\n",
    "between 1 and 4. Please note that running this calculation might take a while."
   ]
  },
  {
   "cell_type": "code",
   "execution_count": 14,
   "metadata": {},
   "outputs": [],
   "source": [
    "import random\n",
    "\n",
    "def problem6() -> None:\n",
    "\n",
    "    random_list = []\n",
    "    cnt = 0\n",
    "    # loop is breaking if it finds desired magic square array\n",
    "    while True:\n",
    "        # generates 4x4 2d list\n",
    "        random_list = [[random.randint(1, 4) for i in range(4)] for j in range(4)]\n",
    "\n",
    "        # increase counter of generated arrays\n",
    "        cnt +=1\n",
    "\n",
    "        transpose = []\n",
    "        # getting transpose of original list\n",
    "        for i in range(4):\n",
    "            row = []\n",
    "            for j in range(4):\n",
    "                row.append(random_list[j][i])\n",
    "            transpose.append(row)\n",
    "        \n",
    "        results = []\n",
    "        d1, d2 = 0,0\n",
    "\n",
    "        # calculates sum of elements of each row in original and transposed array( rows_transposed = columns_original)\n",
    "        # also calculates sum of elements in d1, d2 - left and right diagonals\n",
    "        for i in range(4):\n",
    "            results.append(sum(random_list[i]))\n",
    "            results.append(sum(transpose[i]))\n",
    "            d1 += random_list[i][i]\n",
    "            d2 += random_list[3-i][i]\n",
    "\n",
    "        # holds results of all calculation in list\n",
    "        results += [d1, d2]\n",
    "\n",
    "        # if list of results holds only one unique value we found a magic square\n",
    "        # i.e result of all addition operations is equal for rows, columns and diagonals\n",
    "        if len(set(results)) == 1:\n",
    "            break\n",
    "\n",
    "        \n",
    "\n",
    "    print(f'Number of matrices created: {cnt}')\n",
    "    print('The magic square found is:')\n",
    "    for r in random_list:\n",
    "        print('\\t',r)"
   ]
  },
  {
   "cell_type": "code",
   "execution_count": 15,
   "metadata": {},
   "outputs": [
    {
     "name": "stdout",
     "output_type": "stream",
     "text": [
      "Number of matrices created: 178829\n",
      "The magic square found is:\n",
      "\t [3, 4, 1, 2]\n",
      "\t [2, 3, 3, 2]\n",
      "\t [2, 2, 2, 4]\n",
      "\t [3, 1, 4, 2]\n"
     ]
    }
   ],
   "source": [
    "problem6()"
   ]
  }
 ],
 "metadata": {
  "kernelspec": {
   "display_name": "Python 3 (ipykernel)",
   "language": "python",
   "name": "python3"
  },
  "language_info": {
   "codemirror_mode": {
    "name": "ipython",
    "version": 3
   },
   "file_extension": ".py",
   "mimetype": "text/x-python",
   "name": "python",
   "nbconvert_exporter": "python",
   "pygments_lexer": "ipython3",
   "version": "3.10.8"
  },
  "vscode": {
   "interpreter": {
    "hash": "31f2aee4e71d21fbe5cf8b01ff0e069b9275f58929596ceb00d14d90e3e16cd6"
   }
  }
 },
 "nbformat": 4,
 "nbformat_minor": 4
}
